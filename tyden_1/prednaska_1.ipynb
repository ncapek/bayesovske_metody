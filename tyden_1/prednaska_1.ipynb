{
 "cells": [
  {
   "cell_type": "markdown",
   "metadata": {},
   "source": [
    "# Přednáška 1\n"
   ]
  },
  {
   "cell_type": "markdown",
   "metadata": {},
   "source": [
    "## Podmíněná pravdepodobnost\n",
    "**Definice (úplný systém jevů):**  \n",
    "Nechť $(\\Omega, A, P)$ je pravděpodobnostní prostor. Jevy $A_1, A_2, \\dots \\in A$ tvoří úplný systém jevů (partition), pokud $\\bigcup_{k=1}^\\infty$ $A_k = \\Omega$ a pro $i \\neq j$ je $A_i \\cap A_j = \\emptyset$. Úplný systém jevů muže být i konecný.\n",
    "\n",
    "**Definice (podmíněná pravděpodobnost):**  \n",
    "Nechť $(\\Omega, A, P)$ je pravděpodobnostní prostor. <span style=\"color:blue\">Podmíněná pravděpodobnost (conditional probability)</span>, jevu $C \\in A$ za podmínky jevu $B \\in A, P(B) >0$ je  \n",
    "<span style=\"padding-left:180px\">$P(C|B) = \\frac{P(C \\cap B)}{P(B)}$</span>\n",
    "\n",
    "**Tvrzení (Formule úplné pravdepodobnosti /Law of total probability):**  \n",
    "Nechť $A_1, A_2, \\dots $ je úplný systém jevů na $(\\Omega, A, P)$ se všemi $P(A_k) > 0$. Potom pro libovolný jev $B \\in A$ platí  \n",
    "<span style=\"padding-left:180px\">$P(B) = \\sum_{i=1}^\\infty P(B|A_i)P(A_i)$</span>"
   ]
  },
  {
   "cell_type": "markdown",
   "metadata": {},
   "source": [
    "## Bayesův vzorec pro pravděpodobnosti\n",
    "**Tvrzení (Bayesův vzorec/Baye's theorem):**  \n",
    "Nechť $A_1, A_2, \\dots $ je úplný systém jevů na $(\\Omega, A, P)$ se všemi $P(A_k) > 0$. Potom pro libovolný jev $B \\in A$, $P(B) > 0$ platí  \n",
    "<span style=\"padding-left:180px\">$P(A_k|B) = \\frac{P(B|A_k)P(A_k)}{\\sum_{i=1}^\\infty P(B|A_i)P(A_i)}$</span>, $k = 1, 2, \\dots$<br>\n",
    "- $P(A_k)$ jsou <span style=\"color:blue\">apriorní pravděpodobnosti (prior)</span>, informace již známé před náhodným pokusem,<br><br>\n",
    "- $P(B|A_k)$ jsou <span style=\"color:blue\">věrohodnosti (likelihood)</span>, tzn. pravděpodobnost, s jakými bychom pozorovali výsledky náhodného pokusu, kdyby daná apriorní informace byla správná,<br><br>\n",
    "- $P(A_k|B)$ jsou <span style=\"color:blue\">aposteriorní pravděpodobnosti (posterior)</span>, spočítané na základě apriorních pravděpodobností a výsledku náhodného pokusu.\n"
   ]
  },
  {
   "cell_type": "markdown",
   "metadata": {},
   "source": [
    "## Příklady\n",
    "**Příklad:**\n",
    "Klára, Lukáš a Martin jsou poslední tri lidé na světe. Klára čeká dítě, ale\n",
    "neví, jestli s Lukášem, nebo s Martinem. Známe výsledky testu genotypu:\n",
    "Klára $aa$, dítě $Aa$, Lukáš $AA$, Martin $Aa$. Urcete apriorní a aposteriorní\n",
    "pravděpodobnosti, že otcem dítěte je Lukáš, resp. Martin.<br><br>\n",
    "**řešení:**\n",
    "\n",
    "\n",
    "**Příklad (lékařská diagnostika)**\n",
    "Určitou chorobou trpí 1 % populace. Choroba je diagnostikována na základě\n",
    "vyšetření, které má spolehlivost 95 % u nemocných zkoumanou chorobou\n",
    "a 70 % u osob chorobou netrpících. Určete pravděpodobnost správné\n",
    "diagnózy, pokud je výsledek vyšetření pozitivní, resp. negativní.\n",
    "\n",
    "**Příklad (bezpečnostní kontrola na letišti)**\n",
    "Uvádí se, že nový protiteroristický systém bezpečnostní kontroly na letišti má\n",
    "senzitivitu (True Positive Rate) 99,9 % a specificitu (True Negative Rate) 99,8 %. Předpokládejme, že apriorní pravděpodobnost výskytu teroristy mezi\n",
    "pasažéry je 0,1 ‰. U pasažéra bezpečnostní systém hlásí výstrahu. S jakou\n",
    "pravděpodobností se jedná o teroristu?<br><br>\n",
    "**řešení:**\n",
    "\n",
    "**Príklad (lékarská diagnostika)**\n",
    "Lékař vyšetruje dítě. Ví, že aktuálně v dané oblasti má 90 % nemocných dětí\n",
    "chřipku a 10 % nemocných dětí zarděnky, jiné choroby ani kombinace se\n",
    "nevyskytují. Symptomem zarděnek je vyrážka, která se vyskytuje u 95 %\n",
    "takto nemocných dětí. Zároveň se ale vyrážka objevila u 8 % dětí s chřipkou.\n",
    "Lékař u vyšetřovaného dítěte identifikoval vyrážku. S jakou pravděpodobností\n",
    "má dítě zarděnky?<br><br>\n",
    "**řešení:**\n",
    "\n",
    "**Příklad (lékařská diagnostika)**\n",
    "V jedné studii bylo 100 lékařů dotázáno, jaká je pravdepodobnost rakoviny\n",
    "prsu u ženy, jíž mamografické vyšetrení ukázalo pozitivní výsledek, přičemž\n",
    "pochází ze skupiny s 1% prevalencí rakoviny prsu. Přitom mamograf správně\n",
    "klasifikuje 80 % maligních (zhoubných) a 90 % benigních tumoru. 95 lékařů\n",
    "uvedlo, že tato pravděpodobnost je cca 75 %. Souhlasíte? Spočítejte přesnou\n",
    "hodnotu této pravděpodobnosti.<br><br>\n",
    "**řešení:**\n",
    "\n",
    "**Příklad (kriminalistika)**\n",
    "Ve městě provozují taxislužbu pouze dvě licencované společnosti, Zelená\n",
    "firma provozuje 85 % vozidel a Modrá forma 15 % vozidel. Každá firma má\n",
    "vozidla ve svých firemních barvách. Jedno vozidlo taxi způsobilo v noci\n",
    "nehodu, od níž řidič ujel. Kriminalistům se ozval očitý svědek, který tvrdí, že\n",
    "viděl, že nehodu způsobilo vozidlo taxi modré barvy. Znalec však tvrdí, že\n",
    "kvůli zhoršeným světelným podmínkám se v noci modrá od zelené barvy\n",
    "rozeznává s 20% chybovostí. Určete apriorní a aposteriorní\n",
    "pravděpodobnosti, že nehodu způsobil řidič Zelené, resp. Modré firmy.<br><br>\n",
    "**řešení:**\n",
    "\n",
    "**Příklad (kriminalistika podruhé)**\n",
    "Následně se kriminalistům ozval další očitý svědek, který nezávisle na\n",
    "prvním svědkovi také tvrdí, že viděl, že nehodu způsobilo vozidlo taxi modré\n",
    "barvy. Na základě nové informace a tvrzení znalce znovu spočítejte\n",
    "aposteriorní pravděpodobnosti, že nehodu způsobil řidič Zelené, resp. Modré\n",
    "firmy.<br><br>\n",
    "**řešení:**\n",
    "\n",
    "**Příklad (Monty Hall Problem)**\n",
    "V televizní soutěži se soutěžící snaží zvolit jedny ze 3 zavřených dveří, za\n",
    "nimiž je schováno auto. Za zbylými dveřmi jsou kozy. Moderátor ví, kde auto\n",
    "je, soutežící nikoliv. Soutěžící ukáže na jedny dveře. Moderátor poté cíleně\n",
    "otevře jiné dveře, za nimiž je koza, a soutěžícímu nabídne, že svoji volbu\n",
    "dveří muže změnit na zbylé dosud neotevřené. Má soutežící trvat na své\n",
    "prvotní volbě, nebo má dveře změnit? Spočítejte pravděpodobnosti výhry pro\n",
    "strategii nezměnit, resp. změnit volbu. Která strategie je nejlepší s ohledem\n",
    "na pravděpodobnost výhry auta?<br><br>\n",
    "**řešení:**"
   ]
  },
  {
   "cell_type": "markdown",
   "metadata": {},
   "source": [
    "## Frekventistická a bayesovská statistika\n",
    "\n",
    "## Statistická inference"
   ]
  }
 ],
 "metadata": {
  "kernelspec": {
   "display_name": "Python 3",
   "language": "python",
   "name": "python3"
  },
  "language_info": {
   "codemirror_mode": {
    "name": "ipython",
    "version": 3
   },
   "file_extension": ".py",
   "mimetype": "text/x-python",
   "name": "python",
   "nbconvert_exporter": "python",
   "pygments_lexer": "ipython3",
   "version": "3.8.2"
  }
 },
 "nbformat": 4,
 "nbformat_minor": 4
}
